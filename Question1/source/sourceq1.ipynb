{
  "nbformat": 4,
  "nbformat_minor": 0,
  "metadata": {
    "colab": {
      "provenance": []
    },
    "kernelspec": {
      "name": "python3",
      "display_name": "Python 3"
    },
    "language_info": {
      "name": "python"
    }
  },
  "cells": [
    {
      "cell_type": "code",
      "execution_count": 10,
      "metadata": {
        "colab": {
          "base_uri": "https://localhost:8080/"
        },
        "id": "lzHOoid0IL_m",
        "outputId": "ebddaa77-c8cf-418e-b698-73cd8be44b52"
      },
      "outputs": [
        {
          "output_type": "stream",
          "name": "stdout",
          "text": [
            "Raw data saved successfully!\n"
          ]
        }
      ],
      "source": [
        "import pandas as pd\n",
        "\n",
        "# Create raw data\n",
        "data = {\n",
        "    \"Height_in\": [65.8, 71.5, 69.4, 68.2, 67.8, 68.7, 69.8, 70.1, 67.9, 66.8],\n",
        "    \"Weight_lb\": [112, 136, 153, 142, 144, 123, 141, 136, 112, 120],\n",
        "    \"Age_yr\": [30, 19, 45, 22, 29, 50, 51, 23, 17, 39],\n",
        "    \"Grip_Strength_kg\": [30, 31, 29, 28, 24, 26, 22, 20, 19, 31],\n",
        "    \"Frailty\": [\"N\", \"N\", \"N\", \"Y\", \"Y\", \"N\", \"Y\", \"Y\", \"N\", \"N\"]\n",
        "}\n",
        "\n",
        "df = pd.DataFrame(data)\n",
        "\n",
        "# Save to Google Drive\n",
        "raw_data_path = \"/content/sample_data/frailty.csv\"\n",
        "df.to_csv(raw_data_path, index=False)\n",
        "\n",
        "print(\"Raw data saved successfully!\")\n"
      ]
    },
    {
      "cell_type": "code",
      "source": [
        "import pandas as pd\n",
        "\n",
        "# Define raw data path\n",
        "raw_data_path = \"/content/frailty.csv\"\n",
        "\n",
        "# Load data\n",
        "df = pd.read_csv(raw_data_path)\n",
        "\n",
        "# Convert Grip Strength from kg to pounds\n",
        "df[\"Grip_Strength_lbs\"] = df[\"Grip_Strength_kg\"] * 2.20462\n",
        "\n",
        "# Summary Statistics\n",
        "summary_stats = df.describe()\n",
        "\n",
        "# Define processed data path\n",
        "processed_data_path = \"/content/grip_strength_cleaned.csv\"\n",
        "df.to_csv(processed_data_path, index=False)\n",
        "\n",
        "# Define summary statistics path\n",
        "summary_path = \"/content/summary statistics.xlsx\"\n",
        "summary_stats.to_excel(summary_path)\n",
        "\n",
        "print(\"Data processing complete!\")\n"
      ],
      "metadata": {
        "colab": {
          "base_uri": "https://localhost:8080/"
        },
        "id": "GT61MnCWMUo5",
        "outputId": "db385f03-2df5-4fb9-848e-389d01647c43"
      },
      "execution_count": 13,
      "outputs": [
        {
          "output_type": "stream",
          "name": "stdout",
          "text": [
            "Data processing complete!\n"
          ]
        }
      ]
    },
    {
      "cell_type": "code",
      "source": [
        "import matplotlib.pyplot as plt\n",
        "import seaborn as sns\n",
        "\n",
        "# Boxplot: Grip Strength vs Frailty\n",
        "plt.figure(figsize=(8,5))\n",
        "sns.boxplot(x=\"Frailty\", y=\"Grip_Strength_kg\", data=df)\n",
        "plt.title(\"Grip Strength vs Frailty\")\n",
        "\n",
        "# Save figure\n",
        "fig_path = \"/content/grip_strength_vs_frailty.png\"\n",
        "plt.savefig(fig_path)\n",
        "plt.show()\n"
      ],
      "metadata": {
        "colab": {
          "base_uri": "https://localhost:8080/",
          "height": 487
        },
        "id": "6KE0nRjmM9T7",
        "outputId": "f4ce385a-ebfe-49a8-d692-16dddb447ecf"
      },
      "execution_count": 14,
      "outputs": [
        {
          "output_type": "display_data",
          "data": {
            "text/plain": [
              "<Figure size 800x500 with 1 Axes>"
            ],
            "image/png": "[encoded data removed]"
          },
          "metadata": {}
        }
      ]
    }
  ]
}